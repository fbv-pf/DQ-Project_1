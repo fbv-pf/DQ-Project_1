{
 "cells": [
  {
   "cell_type": "markdown",
   "metadata": {},
   "source": [
    "# Project 1: Bringing more value from free apps based on ads revenue\n",
    "***\n",
    "## What is this project and its goal?\n",
    "This project is about simulating the role of a data analyst working at a company that develops apps for Android and iOS systems. The business model here is one of free apps with revenue coming in through in-app ads.\n",
    "\n",
    "We are in charge of using data from our portfolio of apps to help the app developers understand what type of apps bring about the most users.\n",
    "\n",
    "This is valuable since more users means more ad revenue.\n",
    "\n",
    "The data we will be working here are \"play\" data sets, and they both have data for the Android environment and another for Apple. The data sets, and their documentation, can be found here: [Google](https://www.kaggle.com/lava18/google-play-store-apps) and [Apple](https://www.kaggle.com/ramamet4/app-store-apple-data-set-10k-apps)."
   ]
  },
  {
   "cell_type": "markdown",
   "metadata": {},
   "source": [
    "# First objective: \n",
    "## Open and read the data, and understand its size"
   ]
  },
  {
   "cell_type": "code",
   "execution_count": 1,
   "metadata": {},
   "outputs": [],
   "source": [
    "# First, let's open and read the csv files with the data from both the Google \n",
    "# Play Store and Apple Store\n",
    "\n",
    "opfil_g = open(r\"C:\\Users\\fv.eco\\Documents\\Jupyter Docs\\DQ Project 1\\Data\\googleplaystore.csv\", encoding='utf8')\n",
    "opfil_a = open(r\"C:\\Users\\fv.eco\\Documents\\Jupyter Docs\\DQ Project 1\\Data\\AppleStore.csv\", encoding='utf8')\n",
    "\n",
    "from csv import reader\n",
    "\n",
    "refil_g = reader(opfil_g)\n",
    "refil_a = reader(opfil_a)\n",
    "\n",
    "google_data = list(refil_g)\n",
    "apple_data = list(refil_a)\n",
    "\n",
    "# The working data sets are now called \"google_data\" and \"apple_data\". They \n",
    "# both include a header row."
   ]
  },
  {
   "cell_type": "code",
   "execution_count": 2,
   "metadata": {
    "scrolled": true
   },
   "outputs": [
    {
     "name": "stdout",
     "output_type": "stream",
     "text": [
      "['App', 'Category', 'Rating', 'Reviews', 'Size', 'Installs', 'Type', 'Price', 'Content Rating', 'Genres', 'Last Updated', 'Current Ver', 'Android Ver']\n",
      "\n",
      "\n",
      "['id', 'track_name', 'size_bytes', 'currency', 'price', 'rating_count_tot', 'rating_count_ver', 'user_rating', 'user_rating_ver', 'ver', 'cont_rating', 'prime_genre', 'sup_devices.num', 'ipadSc_urls.num', 'lang.num', 'vpp_lic']\n",
      "\n",
      "\n",
      "[['Photo Editor & Candy Camera & Grid & ScrapBook', 'ART_AND_DESIGN', '4.1', '159', '19M', '10,000+', 'Free', '0', 'Everyone', 'Art & Design', 'January 7, 2018', '1.0.0', '4.0.3 and up'], ['Coloring book moana', 'ART_AND_DESIGN', '3.9', '967', '14M', '500,000+', 'Free', '0', 'Everyone', 'Art & Design;Pretend Play', 'January 15, 2018', '2.0.0', '4.0.3 and up']]\n",
      "\n",
      "\n",
      "[['284882215', 'Facebook', '389879808', 'USD', '0.0', '2974676', '212', '3.5', '3.5', '95.0', '4+', 'Social Networking', '37', '1', '29', '1'], ['389801252', 'Instagram', '113954816', 'USD', '0.0', '2161558', '1289', '4.5', '4.0', '10.23', '12+', 'Photo & Video', '37', '0', '29', '1']]\n",
      "\n",
      "\n",
      "Google, width\n",
      "13\n",
      "Apple, width\n",
      "16\n",
      "\n",
      "\n",
      "Google, length\n",
      "10841\n",
      "Apple, length\n",
      "7197\n"
     ]
    }
   ],
   "source": [
    "# Now let's see how the data set looks like, plus its size\n",
    "\n",
    "# Print just the header\n",
    "print(google_data[0])\n",
    "print('\\n')\n",
    "print(apple_data[0])\n",
    "print('\\n')\n",
    "\n",
    "# Print two first rows of data\n",
    "print(google_data[1:3])\n",
    "print('\\n')\n",
    "print(apple_data[1:3])\n",
    "print('\\n')\n",
    "\n",
    "# Now let's measure the width (number of columns / features) and length (how \n",
    "# many data points) of the data sets\n",
    "print('Google, width')\n",
    "print(len(google_data[0]))\n",
    "print('Apple, width')\n",
    "print(len(apple_data[0]))\n",
    "print('\\n')\n",
    "print('Google, length')\n",
    "print(len(google_data[1:]))\n",
    "print('Apple, length')\n",
    "print(len(apple_data[1:]))"
   ]
  },
  {
   "cell_type": "markdown",
   "metadata": {},
   "source": [
    "## Short description of data sets\n",
    "Google data set has 13 variables and 10841 observations.\n",
    "\n",
    "Apple data set has 16 variables and 7197 observations.\n",
    "\n",
    "Noteworthy is that the variables in each data set do not match, and it seems that all data entries are in the form of strings."
   ]
  },
  {
   "cell_type": "markdown",
   "metadata": {},
   "source": [
    "# Second Objective\n",
    "## Identify variables that are likely useful for our goal\n",
    "This identification will be done manually by utilizing our own reasoning isntead of leaning on statistical/econometric techniques.\n",
    "\n",
    "The name alone on some of the variables is not enough to understand what exactly it is that they describe. So, the documentation for the data sets can be found here: [Google](https://www.kaggle.com/lava18/google-play-store-apps) and [Apple](https://www.kaggle.com/ramamet4/app-store-apple-data-set-10k-apps).\n",
    "\n",
    "Here are the tables with the selected variables.\n",
    "For Google:\n",
    "\n",
    "| Variable | Description |\n",
    "| -------- | ----------- |\n",
    "| App      | Application name |\n",
    "| Category | Category the app belongs to |\n",
    "| Rating   | Overall user rating of the app (as when scraped) |\n",
    "| Reviews  | Number of user reviews for the app (as when scraped) |\n",
    "| Size     | Size of the app (as when scraped) |\n",
    "| Installs | Number of user downloads/installs for the app (as when scraped) |\n",
    "| Type     | Paid or Free |\n",
    "| Price    | Price of the app (as when scraped) |\n",
    "| Content Rating | Age group the app is targeted at - Children / Mature 21+ / Adult |\n",
    "| Genres | An app can belong to multiple genres (apart from its main category) |\n",
    "\n",
    "For Apple:\n",
    "\n",
    "| Variable | Description |\n",
    "| -------- | ----------- |\n",
    "| id      | App ID |\n",
    "| track_name | App Name |\n",
    "| size_bytes   | Size (in bytes) |\n",
    "| currency  | Currency Type |\n",
    "| price     | Price amount |\n",
    "| ratingcounttot | User Rating counts (for all version) |\n",
    "| user_rating | Average User Rating value (for all version) |\n",
    "| cont_rating    | Content Rating |\n",
    "| prime_genre | Primary Genre |\n",
    "| ipadSc_urls.num | Number of screenshots showed for display |\n",
    "| lang.num | Number of supported languages |"
   ]
  },
  {
   "cell_type": "markdown",
   "metadata": {},
   "source": [
    "# Third Objective - Data cleaning\n",
    "\n",
    "We are now going to detect inaccurate data, correcting it or removing it, and remove duplicate data entries. We will also remove non-english apps from the data set\n",
    "\n",
    "## Rows with problems\n",
    "\n",
    "There seems to be one row in the Google Play data set with problems, according to a discussion forum about the data set. The row in question is 10473. I also saw a potential problem in row 13.\n",
    "Let's check out both those rows and see what is going on:"
   ]
  },
  {
   "cell_type": "code",
   "execution_count": 3,
   "metadata": {},
   "outputs": [
    {
     "name": "stdout",
     "output_type": "stream",
     "text": [
      "\n",
      "\n",
      "['App', 'Category', 'Rating', 'Reviews', 'Size', 'Installs', 'Type', 'Price', 'Content Rating', 'Genres', 'Last Updated', 'Current Ver', 'Android Ver']\n",
      "\n",
      "\n",
      "['Life Made WI-Fi Touchscreen Photo Frame', '1.9', '19', '3.0M', '1,000+', 'Free', '0', 'Everyone', '', 'February 11, 2018', '1.0.19', '4.0 and up']\n",
      "\n",
      "\n",
      "['Tattoo Name On My Photo Editor', 'ART_AND_DESIGN', '4.2', '44829', '20M', '10,000,000+', 'Free', '0', 'Teen', 'Art & Design', 'April 2, 2018', '3.8', '4.1 and up']\n",
      "\n",
      "\n"
     ]
    }
   ],
   "source": [
    "# Print the potnetially problematic rows from Google data set (with header row\n",
    "# for reference):\n",
    "print('\\n')\n",
    "print(google_data[0])\n",
    "print('\\n')\n",
    "print(google_data[10473])\n",
    "print('\\n')\n",
    "print(google_data[13])\n",
    "print('\\n')"
   ]
  },
  {
   "cell_type": "markdown",
   "metadata": {},
   "source": [
    "The data set indeed has a problem on row 10473. There is no problem on row 13.\n",
    "\n",
    "We will just delete the problematic row:"
   ]
  },
  {
   "cell_type": "code",
   "execution_count": 4,
   "metadata": {},
   "outputs": [],
   "source": [
    "del google_data[10473]"
   ]
  },
  {
   "cell_type": "markdown",
   "metadata": {},
   "source": [
    "## Next, duplicate entries\n",
    "\n",
    "We will now find all duplicate entries. For this, we will comb through all app names and store duplicate names in a specific list for that purpose:"
   ]
  },
  {
   "cell_type": "code",
   "execution_count": 5,
   "metadata": {
    "scrolled": true
   },
   "outputs": [
    {
     "name": "stdout",
     "output_type": "stream",
     "text": [
      "1181\n",
      "9659\n"
     ]
    }
   ],
   "source": [
    "unique_apps = []\n",
    "duplicate_apps = []\n",
    "\n",
    "for app in google_data[1:]:\n",
    "    name = app[0]\n",
    "    if name in unique_apps:\n",
    "        duplicate_apps.append(name)\n",
    "    else:\n",
    "        unique_apps.append(name)\n",
    "print(len(duplicate_apps))\n",
    "print(len(unique_apps))"
   ]
  },
  {
   "cell_type": "markdown",
   "metadata": {},
   "source": [
    "We find that there are 1181 duplicate values. Let's see a few of those apps:"
   ]
  },
  {
   "cell_type": "code",
   "execution_count": 6,
   "metadata": {},
   "outputs": [
    {
     "name": "stdout",
     "output_type": "stream",
     "text": [
      "['Quick PDF Scanner + OCR FREE', 'BUSINESS', '4.2', '80805', 'Varies with device', '5,000,000+', 'Free', '0', 'Everyone', 'Business', 'February 26, 2018', 'Varies with device', '4.0.3 and up']\n",
      "\n",
      "\n",
      "['Quick PDF Scanner + OCR FREE', 'BUSINESS', '4.2', '80805', 'Varies with device', '5,000,000+', 'Free', '0', 'Everyone', 'Business', 'February 26, 2018', 'Varies with device', '4.0.3 and up']\n",
      "\n",
      "\n",
      "['Quick PDF Scanner + OCR FREE', 'BUSINESS', '4.2', '80804', 'Varies with device', '5,000,000+', 'Free', '0', 'Everyone', 'Business', 'February 26, 2018', 'Varies with device', '4.0.3 and up']\n",
      "\n",
      "\n",
      "['Box', 'BUSINESS', '4.2', '159872', 'Varies with device', '10,000,000+', 'Free', '0', 'Everyone', 'Business', 'July 31, 2018', 'Varies with device', 'Varies with device']\n",
      "\n",
      "\n",
      "['Box', 'BUSINESS', '4.2', '159872', 'Varies with device', '10,000,000+', 'Free', '0', 'Everyone', 'Business', 'July 31, 2018', 'Varies with device', 'Varies with device']\n",
      "\n",
      "\n",
      "['Box', 'BUSINESS', '4.2', '159872', 'Varies with device', '10,000,000+', 'Free', '0', 'Everyone', 'Business', 'July 31, 2018', 'Varies with device', 'Varies with device']\n",
      "\n",
      "\n"
     ]
    }
   ],
   "source": [
    "for dup in duplicate_apps[:2]:\n",
    "    for app in google_data[1:]:\n",
    "        if dup == app[0]:\n",
    "            print(app)\n",
    "            print('\\n')"
   ]
  },
  {
   "cell_type": "markdown",
   "metadata": {},
   "source": [
    "We see that sometimes the duplicates differ in number of reviews. Some other times, they are perfect duplicates.\n",
    "We will now define a strategy to handle duplicate.\n",
    "\n",
    "If the duplicates are perfect copies of each other:\n",
    "- We will remove all duplicates after the first copy is found on the data set.\n",
    "Reason for this is that if they are just perfect copies of each other, then it doesn't matter which one we pick. It is easier to code something that keeps the first copy found.\n",
    "\n",
    "If the duplicates are not perfect copies:\n",
    "- We will keep the record with the most reviews.\n",
    "Reason for this is that the item with the most downloads/installs ought to be the most recent one.\n",
    "\n",
    "Now comes the code that implements this strategy. We will start by building a dictionary where each key is the name of the app, and the numbers held by that key are the numbers that will help us select the right app information list element accoridng to our strategy defined just above. We can then use these numbers to support a \"for\" loop and clean the duplicates off of our data set."
   ]
  },
  {
   "cell_type": "code",
   "execution_count": 7,
   "metadata": {},
   "outputs": [],
   "source": [
    "reviews_max = {}\n",
    "for app in google_data[1:]:\n",
    "    if app[0] not in reviews_max:\n",
    "        reviews_max[app[0]] = float(app[3])\n",
    "    elif float(app[3]) > reviews_max[app[0]]:\n",
    "        reviews_max[app[0]] = float(app[3])"
   ]
  },
  {
   "cell_type": "markdown",
   "metadata": {},
   "source": [
    "Let's check how the dictionary looks. We can print a few values to see if everything is looking as expected:"
   ]
  },
  {
   "cell_type": "code",
   "execution_count": 8,
   "metadata": {},
   "outputs": [
    {
     "name": "stdout",
     "output_type": "stream",
     "text": [
      "[('Photo Editor & Candy Camera & Grid & ScrapBook', 159.0), ('Coloring book moana', 974.0), ('U Launcher Lite – FREE Live Cool Themes, Hide Apps', 87510.0), ('Sketch - Draw & Paint', 215644.0), ('Pixel Draw - Number Art Coloring Book', 967.0)]\n"
     ]
    }
   ],
   "source": [
    "dict_vals = list(reviews_max.items())\n",
    "print(dict_vals[:5])\n",
    "del dict_vals"
   ]
  },
  {
   "cell_type": "markdown",
   "metadata": {},
   "source": [
    "The dictionary seems to look like it should.\n",
    "\n",
    "We will now remove duplicates from our original data set:"
   ]
  },
  {
   "cell_type": "code",
   "execution_count": 9,
   "metadata": {},
   "outputs": [],
   "source": [
    "# Create an empty list to hold our new data with no duplicates and another list to help keep track of apps already in the \n",
    "# data set:\n",
    "android_clean = []\n",
    "already_added = []\n",
    "\n",
    "# Now loop through the original data set with the duplicates and add only non-duplicates to a new list called \"android_clean\".\n",
    "\n",
    "for app in google_data[1:]:\n",
    "    name = app[0]\n",
    "    n_reviews = float(app[3])\n",
    "    if n_reviews == reviews_max[name] and name not in already_added:\n",
    "        android_clean.append(app)\n",
    "        already_added.append(name)\n",
    "        \n",
    "    "
   ]
  },
  {
   "cell_type": "markdown",
   "metadata": {},
   "source": [
    "Let's now check if things went as expected. Check a few lines of the new data set and check its length:"
   ]
  },
  {
   "cell_type": "code",
   "execution_count": 10,
   "metadata": {},
   "outputs": [
    {
     "name": "stdout",
     "output_type": "stream",
     "text": [
      "['Photo Editor & Candy Camera & Grid & ScrapBook', 'ART_AND_DESIGN', '4.1', '159', '19M', '10,000+', 'Free', '0', 'Everyone', 'Art & Design', 'January 7, 2018', '1.0.0', '4.0.3 and up']\n",
      "\n",
      "\n",
      "['U Launcher Lite – FREE Live Cool Themes, Hide Apps', 'ART_AND_DESIGN', '4.7', '87510', '8.7M', '5,000,000+', 'Free', '0', 'Everyone', 'Art & Design', 'August 1, 2018', '1.2.4', '4.0.3 and up']\n",
      "\n",
      "\n",
      "['Sketch - Draw & Paint', 'ART_AND_DESIGN', '4.5', '215644', '25M', '50,000,000+', 'Free', '0', 'Teen', 'Art & Design', 'June 8, 2018', 'Varies with device', '4.2 and up']\n",
      "\n",
      "\n",
      "['Pixel Draw - Number Art Coloring Book', 'ART_AND_DESIGN', '4.3', '967', '2.8M', '100,000+', 'Free', '0', 'Everyone', 'Art & Design;Creativity', 'June 20, 2018', '1.1', '4.4 and up']\n",
      "\n",
      "\n",
      "['Paper flowers instructions', 'ART_AND_DESIGN', '4.4', '167', '5.6M', '50,000+', 'Free', '0', 'Everyone', 'Art & Design', 'March 26, 2017', '1.0', '2.3 and up']\n",
      "\n",
      "\n",
      "9659\n"
     ]
    }
   ],
   "source": [
    "for n in range(0,5):\n",
    "    print(android_clean[n])\n",
    "    print(\"\\n\")\n",
    "\n",
    "print(len(android_clean))"
   ]
  },
  {
   "cell_type": "markdown",
   "metadata": {},
   "source": [
    "Both a few elements of the data set look alright, and its length also is correct.\n",
    "\n",
    "## Remove non-english apps from data set\n",
    "\n",
    "Now, in the hypothetic scenario we are in, working for a company etc., we are only interested in english apps. This means we should filtrate any non-english apps.\n",
    "\n",
    "What we will do now is create a function that can flag strings if they include any non-english character. We can do so by looking at each character in a string and check its ASCII code. Any ASCII code above 127 will not be a regular english character.\n",
    "\n",
    "Our strategy is to count an app as non-english if there are more than three non-english characters as defined by ASCII codes above 127.\n",
    "\n",
    "Here is the checker function:"
   ]
  },
  {
   "cell_type": "code",
   "execution_count": 11,
   "metadata": {},
   "outputs": [],
   "source": [
    "def eng_check(st):\n",
    "    count = 0\n",
    "    for char in st:\n",
    "        if count == 4:\n",
    "            return False\n",
    "        elif ord(char)>127:\n",
    "            count += 1\n",
    "    return True"
   ]
  },
  {
   "cell_type": "markdown",
   "metadata": {},
   "source": [
    "Let's check that the function is working as intended with a few hand made examples:"
   ]
  },
  {
   "cell_type": "code",
   "execution_count": 12,
   "metadata": {},
   "outputs": [
    {
     "name": "stdout",
     "output_type": "stream",
     "text": [
      "True\n",
      "False\n",
      "True\n",
      "True\n",
      "True\n"
     ]
    }
   ],
   "source": [
    "print(eng_check('Instagram'))\n",
    "print(eng_check('爱奇艺PPS -《欢乐颂2》电视剧热播'))\n",
    "print(eng_check('Docs To Go™ Free Office Suite'))\n",
    "print(eng_check('Instachat 😜'))\n",
    "print(eng_check('Clean Title!!!!!'))"
   ]
  },
  {
   "cell_type": "markdown",
   "metadata": {},
   "source": [
    "The function above seems to be working as intended.\n",
    "\n",
    "We can now use it to clean our data sets:"
   ]
  },
  {
   "cell_type": "code",
   "execution_count": 13,
   "metadata": {},
   "outputs": [
    {
     "name": "stdout",
     "output_type": "stream",
     "text": [
      "[['Photo Editor & Candy Camera & Grid & ScrapBook', 'ART_AND_DESIGN', '4.1', '159', '19M', '10,000+', 'Free', '0', 'Everyone', 'Art & Design', 'January 7, 2018', '1.0.0', '4.0.3 and up'], ['U Launcher Lite – FREE Live Cool Themes, Hide Apps', 'ART_AND_DESIGN', '4.7', '87510', '8.7M', '5,000,000+', 'Free', '0', 'Everyone', 'Art & Design', 'August 1, 2018', '1.2.4', '4.0.3 and up'], ['Sketch - Draw & Paint', 'ART_AND_DESIGN', '4.5', '215644', '25M', '50,000,000+', 'Free', '0', 'Teen', 'Art & Design', 'June 8, 2018', 'Varies with device', '4.2 and up']]\n",
      "[['284882215', 'Facebook', '389879808', 'USD', '0.0', '2974676', '212', '3.5', '3.5', '95.0', '4+', 'Social Networking', '37', '1', '29', '1'], ['389801252', 'Instagram', '113954816', 'USD', '0.0', '2161558', '1289', '4.5', '4.0', '10.23', '12+', 'Photo & Video', '37', '0', '29', '1'], ['529479190', 'Clash of Clans', '116476928', 'USD', '0.0', '2130805', '579', '4.5', '4.5', '9.24.12', '9+', 'Games', '38', '5', '18', '1']]\n",
      "9616\n",
      "6226\n"
     ]
    }
   ],
   "source": [
    "android_eng = []\n",
    "apple_eng = []\n",
    "for app in android_clean:\n",
    "    if eng_check(app[0]):\n",
    "        android_eng.append(app)\n",
    "for app in apple_data[1:]:\n",
    "    if eng_check(app[1]):\n",
    "        apple_eng.append(app)\n",
    "\n",
    "print(android_eng[0:3])\n",
    "print(apple_eng[0:3])\n",
    "print(len(android_eng))\n",
    "print(len(apple_eng))"
   ]
  },
  {
   "cell_type": "markdown",
   "metadata": {},
   "source": [
    "Let's see how many rows were deleted from the data sets. Originally we had 9659 (7197) rows for the Android (Apple) data set. We have now 9616 rows in the Android data set and 6226 in the Apple data set.\n",
    "\n",
    "## Removing non-free apps from the data set\n",
    "\n",
    "Since at our job we only get revenue from in-app ads, we also want to remove any non-free apps from the data set.\n",
    "\n",
    "For this we will loop the data sets and copy all free apps to new lists, in the same style we have used before. We then check a few rows and the overall length of the new data sets."
   ]
  },
  {
   "cell_type": "code",
   "execution_count": 14,
   "metadata": {},
   "outputs": [
    {
     "name": "stdout",
     "output_type": "stream",
     "text": [
      "[['Photo Editor & Candy Camera & Grid & ScrapBook', 'ART_AND_DESIGN', '4.1', '159', '19M', '10,000+', 'Free', '0', 'Everyone', 'Art & Design', 'January 7, 2018', '1.0.0', '4.0.3 and up'], ['U Launcher Lite – FREE Live Cool Themes, Hide Apps', 'ART_AND_DESIGN', '4.7', '87510', '8.7M', '5,000,000+', 'Free', '0', 'Everyone', 'Art & Design', 'August 1, 2018', '1.2.4', '4.0.3 and up'], ['Sketch - Draw & Paint', 'ART_AND_DESIGN', '4.5', '215644', '25M', '50,000,000+', 'Free', '0', 'Teen', 'Art & Design', 'June 8, 2018', 'Varies with device', '4.2 and up']]\n",
      "[['284882215', 'Facebook', '389879808', 'USD', '0.0', '2974676', '212', '3.5', '3.5', '95.0', '4+', 'Social Networking', '37', '1', '29', '1'], ['389801252', 'Instagram', '113954816', 'USD', '0.0', '2161558', '1289', '4.5', '4.0', '10.23', '12+', 'Photo & Video', '37', '0', '29', '1'], ['529479190', 'Clash of Clans', '116476928', 'USD', '0.0', '2130805', '579', '4.5', '4.5', '9.24.12', '9+', 'Games', '38', '5', '18', '1']]\n",
      "8865\n",
      "3253\n"
     ]
    }
   ],
   "source": [
    "android_free = []\n",
    "apple_free = []\n",
    "\n",
    "for app in android_eng:\n",
    "    type_p = app[6]\n",
    "    if type_p == 'Free':\n",
    "        android_free.append(app)\n",
    "\n",
    "for app in apple_eng:\n",
    "    price = float(app[4])\n",
    "    if price == 0:\n",
    "        apple_free.append(app)\n",
    "\n",
    "print(android_free[:3])\n",
    "print(apple_free[:3])\n",
    "print(len(android_free))\n",
    "print(len(apple_free))"
   ]
  },
  {
   "cell_type": "markdown",
   "metadata": {},
   "source": [
    "We have 8865 free apps on the android platform and 3253 free apps in the Apple one. This will now be the information we will use to derive value to our app developer colleagues."
   ]
  },
  {
   "cell_type": "markdown",
   "metadata": {},
   "source": [
    "# Fourth Objective - Analysis\n",
    "\n",
    "We want to analyze the data now to derive value from it. Recall that our objective is to bring valuable information to the developers at the company so that they can focus on app characteristics that are popular. This way, a larger user base can be achieved, and more add revenue will follow.\n",
    "\n",
    "The company has a validation strategy for developing app ideas. It is a minimum viable product type of strategy as follows:\n",
    "\n",
    "- The idea is first developed for the Android platform with a minimum viable set of features.\n",
    "- If the app has a good response from users, it is developed further.\n",
    "- If the app is profitable after six months, the app is ported into the Apple platform.\n",
    "\n",
    "An alternative strategy would be to plan and execute an app idea with a broad set of features first. Though this strategy can work, it is a risky one, since a lot more resources are being put into a product that may not be popular. The strategy we defined above carries the risk of offering an underwelming app with lacking features, but at the same time only a good core idea should be followed. Such ideas can be explored easily since the overhead for a deployable product is low.\n",
    "\n",
    "## Apps by genre\n",
    "\n",
    "We will now look at what app genres are most popular. The Android data set as a column for app category and another for genre, in the 2nd and 10th column. The Apple data set has only a column for genre on the 12th column.\n",
    "\n",
    "We need tools to, first, take out the information into a frequency table(the *freq_table* function), and second, display those results orderly (the *display_table* function). We will start by building functions to scrape the relevant information from the data set, and then another function to process the information into the right display format."
   ]
  },
  {
   "cell_type": "code",
   "execution_count": 15,
   "metadata": {},
   "outputs": [],
   "source": [
    "def freq_table(dataset, index):\n",
    "    tot_rows = len(dataset)\n",
    "    fr_tb = {}\n",
    "    for dp in dataset:\n",
    "        if dp[index] in fr_tb:\n",
    "            fr_tb[dp[index]] += 1\n",
    "        else:\n",
    "            fr_tb[dp[index]] = 1\n",
    "    for diel in fr_tb:\n",
    "        fr_tb[diel] /= tot_rows\n",
    "        fr_tb[diel] *= 100\n",
    "        fr_tb[diel] = round(fr_tb[diel], 2)\n",
    "    return fr_tb\n",
    "\n",
    "def display_table(dataset, index):\n",
    "    table = freq_table(dataset, index)\n",
    "    table_display = []\n",
    "    for key in table:\n",
    "        key_val_as_tuple = (table[key], key)\n",
    "        table_display.append(key_val_as_tuple)\n",
    "\n",
    "    table_sorted = sorted(table_display, reverse = True)\n",
    "    for entry in table_sorted:\n",
    "        print(entry[1], ':', entry[0])"
   ]
  },
  {
   "cell_type": "markdown",
   "metadata": {},
   "source": [
    "We can now show the three columns of interest, \"Category\" and \"Genre\" for Android, and \"prime_genre\" for Apple:"
   ]
  },
  {
   "cell_type": "code",
   "execution_count": 16,
   "metadata": {},
   "outputs": [
    {
     "name": "stdout",
     "output_type": "stream",
     "text": [
      "For Android, the 'Category' column:\n",
      "FAMILY : 18.89\n",
      "GAME : 9.72\n",
      "TOOLS : 8.46\n",
      "BUSINESS : 4.59\n",
      "LIFESTYLE : 3.91\n",
      "PRODUCTIVITY : 3.89\n",
      "FINANCE : 3.7\n",
      "MEDICAL : 3.53\n",
      "SPORTS : 3.4\n",
      "PERSONALIZATION : 3.32\n",
      "COMMUNICATION : 3.24\n",
      "HEALTH_AND_FITNESS : 3.08\n",
      "PHOTOGRAPHY : 2.94\n",
      "NEWS_AND_MAGAZINES : 2.8\n",
      "SOCIAL : 2.66\n",
      "TRAVEL_AND_LOCAL : 2.34\n",
      "SHOPPING : 2.24\n",
      "BOOKS_AND_REFERENCE : 2.15\n",
      "DATING : 1.86\n",
      "VIDEO_PLAYERS : 1.79\n",
      "MAPS_AND_NAVIGATION : 1.4\n",
      "FOOD_AND_DRINK : 1.24\n",
      "EDUCATION : 1.16\n",
      "ENTERTAINMENT : 0.96\n",
      "LIBRARIES_AND_DEMO : 0.94\n",
      "AUTO_AND_VEHICLES : 0.92\n",
      "HOUSE_AND_HOME : 0.82\n",
      "WEATHER : 0.8\n",
      "EVENTS : 0.71\n",
      "PARENTING : 0.65\n",
      "ART_AND_DESIGN : 0.64\n",
      "COMICS : 0.62\n",
      "BEAUTY : 0.6\n",
      "None\n",
      "\n",
      "\n",
      "For Android, the 'Genre' column:\n",
      "Tools : 8.45\n",
      "Entertainment : 6.07\n",
      "Education : 5.35\n",
      "Business : 4.59\n",
      "Lifestyle : 3.9\n",
      "Productivity : 3.89\n",
      "Finance : 3.7\n",
      "Medical : 3.53\n",
      "Sports : 3.46\n",
      "Personalization : 3.32\n",
      "Communication : 3.24\n",
      "Action : 3.1\n",
      "Health & Fitness : 3.08\n",
      "Photography : 2.94\n",
      "News & Magazines : 2.8\n",
      "Social : 2.66\n",
      "Travel & Local : 2.32\n",
      "Shopping : 2.24\n",
      "Books & Reference : 2.15\n",
      "Simulation : 2.04\n",
      "Dating : 1.86\n",
      "Arcade : 1.85\n",
      "Video Players & Editors : 1.77\n",
      "Casual : 1.76\n",
      "Maps & Navigation : 1.4\n",
      "Food & Drink : 1.24\n",
      "Puzzle : 1.13\n",
      "Racing : 0.99\n",
      "Role Playing : 0.94\n",
      "Libraries & Demo : 0.94\n",
      "Auto & Vehicles : 0.92\n",
      "Strategy : 0.9\n",
      "House & Home : 0.82\n",
      "Weather : 0.8\n",
      "Events : 0.71\n",
      "Adventure : 0.68\n",
      "Comics : 0.61\n",
      "Beauty : 0.6\n",
      "Art & Design : 0.6\n",
      "Parenting : 0.5\n",
      "Card : 0.45\n",
      "Casino : 0.43\n",
      "Trivia : 0.42\n",
      "Educational;Education : 0.39\n",
      "Board : 0.38\n",
      "Educational : 0.37\n",
      "Education;Education : 0.34\n",
      "Word : 0.26\n",
      "Casual;Pretend Play : 0.24\n",
      "Music : 0.2\n",
      "Racing;Action & Adventure : 0.17\n",
      "Puzzle;Brain Games : 0.17\n",
      "Entertainment;Music & Video : 0.17\n",
      "Casual;Brain Games : 0.14\n",
      "Casual;Action & Adventure : 0.14\n",
      "Arcade;Action & Adventure : 0.12\n",
      "Action;Action & Adventure : 0.1\n",
      "Educational;Pretend Play : 0.09\n",
      "Simulation;Action & Adventure : 0.08\n",
      "Parenting;Education : 0.08\n",
      "Entertainment;Brain Games : 0.08\n",
      "Board;Brain Games : 0.08\n",
      "Parenting;Music & Video : 0.07\n",
      "Educational;Brain Games : 0.07\n",
      "Casual;Creativity : 0.07\n",
      "Art & Design;Creativity : 0.07\n",
      "Education;Pretend Play : 0.06\n",
      "Role Playing;Pretend Play : 0.05\n",
      "Education;Creativity : 0.05\n",
      "Role Playing;Action & Adventure : 0.03\n",
      "Puzzle;Action & Adventure : 0.03\n",
      "Entertainment;Creativity : 0.03\n",
      "Entertainment;Action & Adventure : 0.03\n",
      "Educational;Creativity : 0.03\n",
      "Educational;Action & Adventure : 0.03\n",
      "Education;Music & Video : 0.03\n",
      "Education;Brain Games : 0.03\n",
      "Education;Action & Adventure : 0.03\n",
      "Adventure;Action & Adventure : 0.03\n",
      "Video Players & Editors;Music & Video : 0.02\n",
      "Sports;Action & Adventure : 0.02\n",
      "Simulation;Pretend Play : 0.02\n",
      "Puzzle;Creativity : 0.02\n",
      "Music;Music & Video : 0.02\n",
      "Entertainment;Pretend Play : 0.02\n",
      "Casual;Education : 0.02\n",
      "Board;Action & Adventure : 0.02\n",
      "Video Players & Editors;Creativity : 0.01\n",
      "Trivia;Education : 0.01\n",
      "Travel & Local;Action & Adventure : 0.01\n",
      "Tools;Education : 0.01\n",
      "Strategy;Education : 0.01\n",
      "Strategy;Creativity : 0.01\n",
      "Strategy;Action & Adventure : 0.01\n",
      "Simulation;Education : 0.01\n",
      "Role Playing;Brain Games : 0.01\n",
      "Racing;Pretend Play : 0.01\n",
      "Puzzle;Education : 0.01\n",
      "Parenting;Brain Games : 0.01\n",
      "Music & Audio;Music & Video : 0.01\n",
      "Lifestyle;Pretend Play : 0.01\n",
      "Lifestyle;Education : 0.01\n",
      "Health & Fitness;Education : 0.01\n",
      "Health & Fitness;Action & Adventure : 0.01\n",
      "Entertainment;Education : 0.01\n",
      "Communication;Creativity : 0.01\n",
      "Comics;Creativity : 0.01\n",
      "Casual;Music & Video : 0.01\n",
      "Card;Action & Adventure : 0.01\n",
      "Books & Reference;Education : 0.01\n",
      "Art & Design;Pretend Play : 0.01\n",
      "Art & Design;Action & Adventure : 0.01\n",
      "Arcade;Pretend Play : 0.01\n",
      "Adventure;Education : 0.01\n",
      "None\n",
      "\n",
      "\n",
      "For Apple, the 'Genre' column:\n",
      "Games : 57.85\n",
      "Entertainment : 7.93\n",
      "Photo & Video : 4.92\n",
      "Education : 3.63\n",
      "Social Networking : 3.26\n",
      "Shopping : 2.67\n",
      "Utilities : 2.52\n",
      "Sports : 2.12\n",
      "Music : 2.03\n",
      "Health & Fitness : 2.0\n",
      "Productivity : 1.75\n",
      "Lifestyle : 1.6\n",
      "News : 1.32\n",
      "Travel : 1.29\n",
      "Finance : 1.26\n",
      "Weather : 0.89\n",
      "Food & Drink : 0.89\n",
      "Reference : 0.55\n",
      "Business : 0.55\n",
      "Book : 0.46\n",
      "Navigation : 0.18\n",
      "Medical : 0.18\n",
      "Catalogs : 0.12\n",
      "None\n",
      "\n",
      "\n"
     ]
    }
   ],
   "source": [
    "print(\"For Android, the 'Category' column:\")\n",
    "print(display_table(android_free, 1))\n",
    "print(\"\\n\")\n",
    "print(\"For Android, the 'Genre' column:\")\n",
    "print(display_table(android_free, 9))\n",
    "print(\"\\n\")\n",
    "print(\"For Apple, the 'Genre' column:\")\n",
    "print(display_table(apple_free, 11))\n",
    "print(\"\\n\")"
   ]
  },
  {
   "cell_type": "markdown",
   "metadata": {},
   "source": [
    " ### For the analysis of the Apple data set:\n",
    " \n",
    " - What is the most common genre?\n",
    "     - Games first.\n",
    "     - Then Entertainment.\n",
    "\n",
    " - What other patterns do we see?\n",
    "     - Games are by far the most popular type of app. By far.\n",
    "     - Every other app genre has a relatively low market share.\n",
    "     \n",
    " - What is the general impression?\n",
    "     - Most apps are geared towards entertainment, and not practical purposes.\n",
    "     \n",
    " - What recommendations can be made from this table alone?\n",
    "     - Not a hole lot. We need more information to derive value from the data. Such as:\n",
    "         - How is the user base for each app genre?\n",
    "         - Is the market saturated for a given app genre?\n",
    "\n",
    "\n",
    " ### For the analysis of the Android data set:\n",
    " \n",
    " - What is the most common genre?\n",
    "     - Tools first.\n",
    "     - Then Entertainment.\n",
    "\n",
    " - What other patterns do we see?\n",
    "     - The market share is quite evenly spread out.\n",
    "     - The most popular app genre is close to the rest of the stack.\n",
    "     \n",
    " - How does the Android results compare to the Apple ones?\n",
    "     - There are a lot more genres.\n",
    "     - There seems to be a stronger preference for practical purpose apps than entertainment.\n",
    "     \n",
    " - What recommendations can be made from this table alone?\n",
    "     - Same answer as before. We need other complementary information to derive value from these results, such as the user base of each app genre.\n",
    "\n",
    "***********\n",
    "\n",
    "## Grabbing extra information - the user base\n",
    "\n",
    "We will now scrape info about the user base. We can take the number of downloads/installs from the Android data set, but the Apple data set is missing this information. We will proxy that information by making use of the \"Nr. of ratings\" column there.\n",
    "\n",
    "We also want to have the user base numbers per genre of app.\n",
    "\n",
    "We will first obtain the unique genre names, and then run statistics on the user base per unique genre name."
   ]
  },
  {
   "cell_type": "code",
   "execution_count": 17,
   "metadata": {},
   "outputs": [
    {
     "name": "stdout",
     "output_type": "stream",
     "text": [
      "[86090.3, 'Navigation']\n",
      "[74942.1, 'Reference']\n",
      "[71548.3, 'Social Networking']\n",
      "[57326.5, 'Music']\n",
      "[50477.1, 'Weather']\n",
      "[37217.7, 'Book']\n",
      "[29885.8, 'Food & Drink']\n",
      "[28441.5, 'Photo & Video']\n",
      "[27638.2, 'Finance']\n",
      "[26925.2, 'Travel']\n",
      "[25996.3, 'Shopping']\n",
      "[23298.0, 'Health & Fitness']\n",
      "[23008.9, 'Sports']\n",
      "[22691.8, 'Games']\n",
      "[21248.0, 'News']\n",
      "[20702.2, 'Productivity']\n",
      "[18460.4, 'Utilities']\n",
      "[16168.7, 'Lifestyle']\n",
      "[13831.3, 'Entertainment']\n",
      "[7075.3, 'Business']\n",
      "[7004.0, 'Education']\n",
      "[4004.0, 'Catalogs']\n",
      "[612.0, 'Medical']\n"
     ]
    }
   ],
   "source": [
    "apple_un_gen = freq_table(apple_free, 11)\n",
    "rk_1 = []\n",
    "for genre in apple_un_gen:\n",
    "    total = 0\n",
    "    len_genre = 0\n",
    "    for app in apple_free:\n",
    "        genre_app = app[11]\n",
    "        if app[11] == genre:\n",
    "            count = float(app[5])\n",
    "            total += count\n",
    "            len_genre += 1\n",
    "    avg_nr = round(total / len_genre, 1)\n",
    "    \n",
    "    rk_1.append([avg_nr, genre])\n",
    "\n",
    "rk_1.sort(reverse=True)\n",
    "\n",
    "for el in rk_1:\n",
    "    print(el)       "
   ]
  },
  {
   "cell_type": "markdown",
   "metadata": {},
   "source": [
    "Navigation apps have the highest average user base, followed by Reference and Social Networking.\n",
    "\n",
    "Given that these three genres had really low market shares, this impies that the market for these genres is quite concentrated. That presents possibilities for obtaining a large user base, but it also may be challenging to disrupt the oligopoly in place.\n",
    "\n",
    "Trying to strike a balance between a high user base and a low amount of apps already in the market, an app recommendation is a **Weather** app.\n",
    "\n",
    "## User base for the Android data set\n",
    "\n",
    "We will now do the same for the Android data set."
   ]
  },
  {
   "cell_type": "code",
   "execution_count": 18,
   "metadata": {},
   "outputs": [
    {
     "name": "stdout",
     "output_type": "stream",
     "text": [
      "[38456119.2, 'COMMUNICATION']\n",
      "[24727872.5, 'VIDEO_PLAYERS']\n",
      "[23253652.1, 'SOCIAL']\n",
      "[17840110.4, 'PHOTOGRAPHY']\n",
      "[16787331.3, 'PRODUCTIVITY']\n",
      "[15588015.6, 'GAME']\n",
      "[13984077.7, 'TRAVEL_AND_LOCAL']\n",
      "[11640705.9, 'ENTERTAINMENT']\n",
      "[10801391.3, 'TOOLS']\n",
      "[9549178.5, 'NEWS_AND_MAGAZINES']\n",
      "[8721959.5, 'BOOKS_AND_REFERENCE']\n",
      "[7036877.3, 'SHOPPING']\n",
      "[5201482.6, 'PERSONALIZATION']\n",
      "[5074486.2, 'WEATHER']\n",
      "[4188822.0, 'HEALTH_AND_FITNESS']\n",
      "[4056941.8, 'MAPS_AND_NAVIGATION']\n",
      "[3697848.2, 'FAMILY']\n",
      "[3638640.1, 'SPORTS']\n",
      "[1986335.1, 'ART_AND_DESIGN']\n",
      "[1924897.7, 'FOOD_AND_DRINK']\n",
      "[1833495.1, 'EDUCATION']\n",
      "[1712290.1, 'BUSINESS']\n",
      "[1433701.5, 'LIFESTYLE']\n",
      "[1387692.5, 'FINANCE']\n",
      "[1331540.6, 'HOUSE_AND_HOME']\n",
      "[854028.8, 'DATING']\n",
      "[817657.3, 'COMICS']\n",
      "[647317.8, 'AUTO_AND_VEHICLES']\n",
      "[638503.7, 'LIBRARIES_AND_DEMO']\n",
      "[542603.6, 'PARENTING']\n",
      "[513151.9, 'BEAUTY']\n",
      "[253542.2, 'EVENTS']\n",
      "[120550.6, 'MEDICAL']\n"
     ]
    }
   ],
   "source": [
    "android_cat = freq_table(android_free, 1)\n",
    "rk_2 = []\n",
    "for cat in android_cat:\n",
    "    total = 0\n",
    "    len_cat = 0\n",
    "    for app in android_free:\n",
    "        cat_app = app[1]\n",
    "        if cat_app == cat:\n",
    "            nr_inst = app[5]\n",
    "            nr_inst = float(nr_inst.replace(\"+\",\"\").replace(\",\",\"\"))\n",
    "            total += nr_inst\n",
    "            len_cat += 1\n",
    "    avg_nr = round(total / len_cat, 1)\n",
    "    rk_2.append([avg_nr, cat])\n",
    "\n",
    "rk_2.sort(reverse=True)\n",
    "\n",
    "for el in rk_2:\n",
    "    print(el) "
   ]
  },
  {
   "cell_type": "markdown",
   "metadata": {},
   "source": [
    "Given that we want an app to be successful in both Android and Apple systems, we now check if our **Weather** app recommendation still makes sense.\n",
    "\n",
    "It seems that it does, as it has a relatively high user base and a very low market share in app genres.\n",
    "\n",
    "# Result of Analysis\n",
    "\n",
    "**Our app recommendation is a weather one for the purpose of raising revenue through in-app ads.**"
   ]
  }
 ],
 "metadata": {
  "kernelspec": {
   "display_name": "Python 3",
   "language": "python",
   "name": "python3"
  },
  "language_info": {
   "codemirror_mode": {
    "name": "ipython",
    "version": 3
   },
   "file_extension": ".py",
   "mimetype": "text/x-python",
   "name": "python",
   "nbconvert_exporter": "python",
   "pygments_lexer": "ipython3",
   "version": "3.8.5"
  }
 },
 "nbformat": 4,
 "nbformat_minor": 4
}
