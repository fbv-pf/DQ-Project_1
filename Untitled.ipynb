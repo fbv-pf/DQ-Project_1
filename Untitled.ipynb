{
 "cells": [
  {
   "cell_type": "markdown",
   "metadata": {},
   "source": [
    "# Project 1: Bringing more value from free apps based on ads revenue\n",
    "***\n",
    "## What is this project and its goal?\n",
    "This project is about simulating the role of a data analyst working at a company that develops apps for Android and iOS systems. The business model here is one of free apps with revenue coming in through in-app ads.\n",
    "\n",
    "We are in charge of using data from our portfolio of apps to help the app developers understand what type of apps bring about the most users.\n",
    "\n",
    "This is valuable since more users means more ad revenue."
   ]
  },
  {
   "cell_type": "markdown",
   "metadata": {},
   "source": [
    "# First objective: \n",
    "## Open and read the data, and understand its size"
   ]
  },
  {
   "cell_type": "code",
   "execution_count": 3,
   "metadata": {},
   "outputs": [],
   "source": [
    "# First, let's open and read the csv files with the data from both the Google \n",
    "# Play Store and Apple Store\n",
    "\n",
    "opfil_g = open(r\"C:\\Users\\fv.eco\\Documents\\Jupyter Docs\\DQ Project 1\\Data\\googleplaystore.csv\", encoding='utf8')\n",
    "opfil_a = open(r\"C:\\Users\\fv.eco\\Documents\\Jupyter Docs\\DQ Project 1\\Data\\AppleStore.csv\", encoding='utf8')\n",
    "\n",
    "from csv import reader\n",
    "\n",
    "refil_g = reader(opfil_g)\n",
    "refil_a = reader(opfil_a)\n",
    "\n",
    "google_data = list(refil_g)\n",
    "apple_data = list(refil_a)\n",
    "\n",
    "# The working data sets are now called \"google_data\" and \"apple_data\". They \n",
    "# both include a header row."
   ]
  },
  {
   "cell_type": "code",
   "execution_count": 12,
   "metadata": {
    "scrolled": true
   },
   "outputs": [
    {
     "name": "stdout",
     "output_type": "stream",
     "text": [
      "['App', 'Category', 'Rating', 'Reviews', 'Size', 'Installs', 'Type', 'Price', 'Content Rating', 'Genres', 'Last Updated', 'Current Ver', 'Android Ver']\n",
      "\n",
      "\n",
      "['id', 'track_name', 'size_bytes', 'currency', 'price', 'rating_count_tot', 'rating_count_ver', 'user_rating', 'user_rating_ver', 'ver', 'cont_rating', 'prime_genre', 'sup_devices.num', 'ipadSc_urls.num', 'lang.num', 'vpp_lic']\n",
      "\n",
      "\n",
      "[['Photo Editor & Candy Camera & Grid & ScrapBook', 'ART_AND_DESIGN', '4.1', '159', '19M', '10,000+', 'Free', '0', 'Everyone', 'Art & Design', 'January 7, 2018', '1.0.0', '4.0.3 and up'], ['Coloring book moana', 'ART_AND_DESIGN', '3.9', '967', '14M', '500,000+', 'Free', '0', 'Everyone', 'Art & Design;Pretend Play', 'January 15, 2018', '2.0.0', '4.0.3 and up']]\n",
      "\n",
      "\n",
      "[['284882215', 'Facebook', '389879808', 'USD', '0.0', '2974676', '212', '3.5', '3.5', '95.0', '4+', 'Social Networking', '37', '1', '29', '1'], ['389801252', 'Instagram', '113954816', 'USD', '0.0', '2161558', '1289', '4.5', '4.0', '10.23', '12+', 'Photo & Video', '37', '0', '29', '1']]\n",
      "\n",
      "\n",
      "Google, width\n",
      "13\n",
      "Apple, width\n",
      "16\n",
      "\n",
      "\n",
      "Google, length\n",
      "10841\n",
      "Apple, length\n",
      "7197\n"
     ]
    }
   ],
   "source": [
    "# Now let's see how the data set looks like, plus its size\n",
    "\n",
    "# Print just the header\n",
    "print(google_data[0])\n",
    "print('\\n')\n",
    "print(apple_data[0])\n",
    "print('\\n')\n",
    "\n",
    "# Print two first rows of data\n",
    "print(google_data[1:3])\n",
    "print('\\n')\n",
    "print(apple_data[1:3])\n",
    "print('\\n')\n",
    "\n",
    "# Now let's measure the width (number of columns / features) and length (how \n",
    "# many data points) of the data sets\n",
    "print('Google, width')\n",
    "print(len(google_data[0]))\n",
    "print('Apple, width')\n",
    "print(len(apple_data[0]))\n",
    "print('\\n')\n",
    "print('Google, length')\n",
    "print(len(google_data[1:]))\n",
    "print('Apple, length')\n",
    "print(len(apple_data[1:]))"
   ]
  },
  {
   "cell_type": "markdown",
   "metadata": {},
   "source": [
    "## Short description of data sets\n",
    "Google data set has 13 variables and 10841 observations.\n",
    "\n",
    "Apple data set has 16 variables and 7197 observations.\n",
    "\n",
    "Noteworthy is that the variables in each data set do not match, and it seems that all data entries are in the form of strings."
   ]
  },
  {
   "cell_type": "markdown",
   "metadata": {},
   "source": [
    "# Second Objective\n",
    "## Identify variables that are likely useful for our goal\n",
    "This identification will be done manually by utilizing our own reasoning isntead of leaning on statistical/econometric techniques.\n",
    "\n",
    "The name alone on some of the variables is not enough to understand what exactly it is that they describe. So, the documentation for the data sets can be found here: [Google](https://www.kaggle.com/lava18/google-play-store-apps) and [Apple](https://www.kaggle.com/ramamet4/app-store-apple-data-set-10k-apps).\n",
    "\n",
    "Here are the tables with the selected variables.\n",
    "For Google:\n",
    "\n",
    "| Variable | Description |\n",
    "| -------- | ----------- |\n",
    "| App      | Application name |\n",
    "| Category | Category the app belongs to |\n",
    "| Rating   | Overall user rating of the app (as when scraped) |\n",
    "| Reviews  | Number of user reviews for the app (as when scraped) |\n",
    "| Size     | Size of the app (as when scraped) |\n",
    "| Installs | Number of user downloads/installs for the app (as when scraped) |\n",
    "| Type     | Paid or Free |\n",
    "| Price    | Price of the app (as when scraped) |\n",
    "| Content Rating | Age group the app is targeted at - Children / Mature 21+ / Adult |\n",
    "| Genres | An app can belong to multiple genres (apart from its main category) |\n",
    "\n",
    "For Apple:\n",
    "\n",
    "| Variable | Description |\n",
    "| -------- | ----------- |\n",
    "| id      | App ID |\n",
    "| track_name | App Name |\n",
    "| size_bytes   | Size (in bytes) |\n",
    "| currency  | Currency Type |\n",
    "| price     | Price amount |\n",
    "| ratingcounttot | User Rating counts (for all version) |\n",
    "| user_rating | Average User Rating value (for all version) |\n",
    "| cont_rating    | Content Rating |\n",
    "| prime_genre | Primary Genre |\n",
    "| ipadSc_urls.num | Number of screenshots showed for display |\n",
    "| lang.num | Number of supported languages |"
   ]
  },
  {
   "cell_type": "code",
   "execution_count": null,
   "metadata": {},
   "outputs": [],
   "source": []
  }
 ],
 "metadata": {
  "kernelspec": {
   "display_name": "Python 3",
   "language": "python",
   "name": "python3"
  },
  "language_info": {
   "codemirror_mode": {
    "name": "ipython",
    "version": 3
   },
   "file_extension": ".py",
   "mimetype": "text/x-python",
   "name": "python",
   "nbconvert_exporter": "python",
   "pygments_lexer": "ipython3",
   "version": "3.8.5"
  }
 },
 "nbformat": 4,
 "nbformat_minor": 4
}
